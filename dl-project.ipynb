{
 "cells": [
  {
   "cell_type": "code",
   "execution_count": 1,
   "metadata": {
    "_cell_guid": "b1076dfc-b9ad-4769-8c92-a6c4dae69d19",
    "_uuid": "8f2839f25d086af736a60e9eeb907d3b93b6e0e5",
    "execution": {
     "iopub.execute_input": "2024-10-03T10:27:28.674290Z",
     "iopub.status.busy": "2024-10-03T10:27:28.673466Z",
     "iopub.status.idle": "2024-10-03T10:27:29.838269Z",
     "shell.execute_reply": "2024-10-03T10:27:29.837204Z",
     "shell.execute_reply.started": "2024-10-03T10:27:28.674246Z"
    },
    "trusted": true
   },
   "outputs": [
    {
     "name": "stdout",
     "output_type": "stream",
     "text": [
      "/kaggle/input/labels-3/liver_50.nii\n",
      "/kaggle/input/labels-3/liver_46.nii\n",
      "/kaggle/input/labels-3/liver_90.nii\n",
      "/kaggle/input/labels-3/liver_96.nii\n",
      "/kaggle/input/labels-3/liver_121.nii\n",
      "/kaggle/input/labels-3/liver_97.nii\n",
      "/kaggle/input/labels-3/liver_55.nii\n",
      "/kaggle/input/labels-3/liver_91.nii\n",
      "/kaggle/input/labels-3/liver_38.nii\n",
      "/kaggle/input/labels-3/liver_128.nii\n",
      "/kaggle/input/labels-3/liver_83.nii\n",
      "/kaggle/input/labels-3/liver_116.nii\n",
      "/kaggle/input/labels-3/liver_51.nii\n",
      "/kaggle/input/labels-3/liver_117.nii\n",
      "/kaggle/input/labels-3/liver_104.nii\n",
      "/kaggle/input/labels-3/liver_81.nii\n",
      "/kaggle/input/labels-3/liver_67.nii\n",
      "/kaggle/input/labels-3/liver_39.nii\n",
      "/kaggle/input/labels-3/liver_118.nii\n",
      "/kaggle/input/labels-3/liver_120.nii\n",
      "/kaggle/input/labels-3/liver_107.nii\n",
      "/kaggle/input/labels-3/liver_35.nii\n",
      "/kaggle/input/labels-3/liver_43.nii\n",
      "/kaggle/input/labels-3/liver_31.nii\n",
      "/kaggle/input/labels-3/liver_59.nii\n",
      "/kaggle/input/labels-3/liver_109.nii\n",
      "/kaggle/input/labels-3/liver_40.nii\n",
      "/kaggle/input/labels-3/liver_112.nii\n",
      "/kaggle/input/labels-3/liver_105.nii\n",
      "/kaggle/input/labels-3/liver_92.nii\n",
      "/kaggle/input/labels-3/liver_78.nii\n",
      "/kaggle/input/labels-3/liver_125.nii\n",
      "/kaggle/input/labels-3/liver_85.nii\n",
      "/kaggle/input/labels-3/liver_93.nii\n",
      "/kaggle/input/labels-3/liver_76.nii\n",
      "/kaggle/input/labels-3/liver_94.nii\n",
      "/kaggle/input/labels-3/liver_61.nii\n",
      "/kaggle/input/labels-3/liver_32.nii\n",
      "/kaggle/input/labels-3/liver_89.nii\n",
      "/kaggle/input/labels-3/liver_102.nii\n",
      "/kaggle/input/labels-3/liver_53.nii\n",
      "/kaggle/input/labels-3/liver_73.nii\n",
      "/kaggle/input/labels-3/liver_101.nii\n",
      "/kaggle/input/labels-3/liver_66.nii\n",
      "/kaggle/input/labels-3/liver_34.nii\n",
      "/kaggle/input/labels-3/liver_84.nii\n",
      "/kaggle/input/labels-3/liver_64.nii\n",
      "/kaggle/input/labels-3/liver_75.nii\n",
      "/kaggle/input/labels-3/liver_63.nii\n",
      "/kaggle/input/labels-3/liver_111.nii\n",
      "/kaggle/input/labels-3/liver_86.nii\n",
      "/kaggle/input/labels-3/liver_49.nii\n",
      "/kaggle/input/labels-3/liver_80.nii\n",
      "/kaggle/input/labels-3/liver_103.nii\n",
      "/kaggle/input/labels-3/liver_110.nii\n",
      "/kaggle/input/labels-3/liver_68.nii\n",
      "/kaggle/input/labels-3/liver_72.nii\n",
      "/kaggle/input/labels-3/liver_56.nii\n",
      "/kaggle/input/labels-3/liver_44.nii\n",
      "/kaggle/input/labels-3/liver_87.nii\n",
      "/kaggle/input/labels-3/liver_127.nii\n",
      "/kaggle/input/labels-3/liver_113.nii\n",
      "/kaggle/input/labels-3/liver_77.nii\n",
      "/kaggle/input/labels-3/liver_54.nii\n",
      "/kaggle/input/labels-3/liver_108.nii\n",
      "/kaggle/input/labels-3/liver_95.nii\n",
      "/kaggle/input/labels-3/liver_69.nii\n",
      "/kaggle/input/labels-3/liver_36.nii\n",
      "/kaggle/input/labels-3/liver_124.nii\n",
      "/kaggle/input/labels-3/liver_99.nii\n",
      "/kaggle/input/labels-3/liver_48.nii\n",
      "/kaggle/input/labels-3/liver_42.nii\n",
      "/kaggle/input/labels-3/liver_52.nii\n",
      "/kaggle/input/labels-3/liver_119.nii\n",
      "/kaggle/input/labels-3/liver_129.nii\n",
      "/kaggle/input/labels-3/liver_41.nii\n",
      "/kaggle/input/labels-3/liver_88.nii\n",
      "/kaggle/input/labels-3/liver_33.nii\n",
      "/kaggle/input/labels-3/liver_57.nii\n",
      "/kaggle/input/labels-3/liver_45.nii\n",
      "/kaggle/input/labels-3/liver_114.nii\n",
      "/kaggle/input/labels-3/liver_126.nii\n",
      "/kaggle/input/labels-3/liver_74.nii\n",
      "/kaggle/input/labels-3/liver_122.nii\n",
      "/kaggle/input/labels-3/liver_71.nii\n",
      "/kaggle/input/labels-3/liver_98.nii\n",
      "/kaggle/input/labels-3/liver_58.nii\n",
      "/kaggle/input/labels-3/liver_65.nii\n",
      "/kaggle/input/labels-3/liver_123.nii\n",
      "/kaggle/input/labels-3/liver_47.nii\n",
      "/kaggle/input/labels-3/liver_130.nii\n",
      "/kaggle/input/labels-3/liver_62.nii\n",
      "/kaggle/input/labels-3/liver_70.nii\n",
      "/kaggle/input/labels-3/liver_115.nii\n",
      "/kaggle/input/labels-3/liver_106.nii\n",
      "/kaggle/input/labels-3/liver_100.nii\n",
      "/kaggle/input/labels-3/liver_60.nii\n",
      "/kaggle/input/labels-3/liver_37.nii\n",
      "/kaggle/input/labels-3/liver_82.nii\n",
      "/kaggle/input/labels-3/liver_79.nii\n",
      "/kaggle/input/model/pytorch/v1/1/model-2.pth\n",
      "/kaggle/input/model/pytorch/v1/2/model (1).pth\n",
      "/kaggle/input/image-2/liver_19.nii\n",
      "/kaggle/input/image-2/liver_16.nii\n",
      "/kaggle/input/image-2/liver_25.nii\n",
      "/kaggle/input/image-2/liver_30.nii\n",
      "/kaggle/input/image-2/liver_17.nii\n",
      "/kaggle/input/image-2/liver_12.nii\n",
      "/kaggle/input/image-2/liver_27.nii\n",
      "/kaggle/input/image-2/liver_22.nii\n",
      "/kaggle/input/image-2/liver_15.nii\n",
      "/kaggle/input/image-2/liver_20.nii\n",
      "/kaggle/input/image-2/liver_23.nii\n",
      "/kaggle/input/image-2/liver_18.nii\n",
      "/kaggle/input/image-2/liver_11.nii\n",
      "/kaggle/input/image-2/liver_26.nii\n",
      "/kaggle/input/image-2/liver_28.nii\n",
      "/kaggle/input/image-2/liver_21.nii\n",
      "/kaggle/input/image-2/liver_13.nii\n",
      "/kaggle/input/image-2/liver_29.nii\n",
      "/kaggle/input/image-2/liver_14.nii\n",
      "/kaggle/input/image-2/liver_24.nii\n",
      "/kaggle/input/labels-2/liver_19.nii\n",
      "/kaggle/input/labels-2/liver_16.nii\n",
      "/kaggle/input/labels-2/liver_25.nii\n",
      "/kaggle/input/labels-2/liver_30.nii\n",
      "/kaggle/input/labels-2/liver_17.nii\n",
      "/kaggle/input/labels-2/liver_12.nii\n",
      "/kaggle/input/labels-2/liver_27.nii\n",
      "/kaggle/input/labels-2/liver_22.nii\n",
      "/kaggle/input/labels-2/liver_15.nii\n",
      "/kaggle/input/labels-2/liver_20.nii\n",
      "/kaggle/input/labels-2/liver_23.nii\n",
      "/kaggle/input/labels-2/liver_18.nii\n",
      "/kaggle/input/labels-2/liver_11.nii\n",
      "/kaggle/input/labels-2/liver_26.nii\n",
      "/kaggle/input/labels-2/liver_28.nii\n",
      "/kaggle/input/labels-2/liver_21.nii\n",
      "/kaggle/input/labels-2/liver_13.nii\n",
      "/kaggle/input/labels-2/liver_29.nii\n",
      "/kaggle/input/labels-2/liver_14.nii\n",
      "/kaggle/input/labels-2/liver_24.nii\n",
      "/kaggle/input/image-1/liver_9.nii\n",
      "/kaggle/input/image-1/liver_4.nii\n",
      "/kaggle/input/image-1/liver_7.nii\n",
      "/kaggle/input/image-1/liver_0.nii\n",
      "/kaggle/input/image-1/liver_8.nii\n",
      "/kaggle/input/image-1/liver_6.nii\n",
      "/kaggle/input/image-1/liver_5.nii\n",
      "/kaggle/input/image-1/liver_1.nii\n",
      "/kaggle/input/image-1/liver_10.nii\n",
      "/kaggle/input/image-1/liver_2.nii\n",
      "/kaggle/input/image-1/liver_3.nii\n",
      "/kaggle/input/images-3/liver_50.nii\n",
      "/kaggle/input/images-3/liver_46.nii\n",
      "/kaggle/input/images-3/liver_90.nii\n",
      "/kaggle/input/images-3/liver_96.nii\n",
      "/kaggle/input/images-3/liver_121.nii\n",
      "/kaggle/input/images-3/liver_97.nii\n",
      "/kaggle/input/images-3/liver_55.nii\n",
      "/kaggle/input/images-3/liver_91.nii\n",
      "/kaggle/input/images-3/liver_38.nii\n",
      "/kaggle/input/images-3/liver_128.nii\n",
      "/kaggle/input/images-3/liver_83.nii\n",
      "/kaggle/input/images-3/liver_116.nii\n",
      "/kaggle/input/images-3/liver_51.nii\n",
      "/kaggle/input/images-3/liver_117.nii\n",
      "/kaggle/input/images-3/liver_104.nii\n",
      "/kaggle/input/images-3/liver_81.nii\n",
      "/kaggle/input/images-3/liver_67.nii\n",
      "/kaggle/input/images-3/liver_39.nii\n",
      "/kaggle/input/images-3/liver_118.nii\n",
      "/kaggle/input/images-3/liver_120.nii\n",
      "/kaggle/input/images-3/liver_107.nii\n",
      "/kaggle/input/images-3/liver_35.nii\n",
      "/kaggle/input/images-3/liver_43.nii\n",
      "/kaggle/input/images-3/liver_31.nii\n",
      "/kaggle/input/images-3/liver_59.nii\n",
      "/kaggle/input/images-3/liver_109.nii\n",
      "/kaggle/input/images-3/liver_40.nii\n",
      "/kaggle/input/images-3/liver_112.nii\n",
      "/kaggle/input/images-3/liver_105.nii\n",
      "/kaggle/input/images-3/liver_92.nii\n",
      "/kaggle/input/images-3/liver_78.nii\n",
      "/kaggle/input/images-3/liver_125.nii\n",
      "/kaggle/input/images-3/liver_85.nii\n",
      "/kaggle/input/images-3/liver_93.nii\n",
      "/kaggle/input/images-3/liver_76.nii\n",
      "/kaggle/input/images-3/liver_94.nii\n",
      "/kaggle/input/images-3/liver_61.nii\n",
      "/kaggle/input/images-3/liver_32.nii\n",
      "/kaggle/input/images-3/liver_89.nii\n",
      "/kaggle/input/images-3/liver_102.nii\n",
      "/kaggle/input/images-3/liver_53.nii\n",
      "/kaggle/input/images-3/liver_73.nii\n",
      "/kaggle/input/images-3/liver_101.nii\n",
      "/kaggle/input/images-3/liver_66.nii\n",
      "/kaggle/input/images-3/liver_34.nii\n",
      "/kaggle/input/images-3/liver_84.nii\n",
      "/kaggle/input/images-3/liver_64.nii\n",
      "/kaggle/input/images-3/liver_75.nii\n",
      "/kaggle/input/images-3/liver_63.nii\n",
      "/kaggle/input/images-3/liver_111.nii\n",
      "/kaggle/input/images-3/liver_86.nii\n",
      "/kaggle/input/images-3/liver_49.nii\n",
      "/kaggle/input/images-3/liver_80.nii\n",
      "/kaggle/input/images-3/liver_103.nii\n",
      "/kaggle/input/images-3/liver_110.nii\n",
      "/kaggle/input/images-3/liver_68.nii\n",
      "/kaggle/input/images-3/liver_72.nii\n",
      "/kaggle/input/images-3/liver_56.nii\n",
      "/kaggle/input/images-3/liver_44.nii\n",
      "/kaggle/input/images-3/liver_87.nii\n",
      "/kaggle/input/images-3/liver_127.nii\n",
      "/kaggle/input/images-3/liver_113.nii\n",
      "/kaggle/input/images-3/liver_77.nii\n",
      "/kaggle/input/images-3/liver_54.nii\n",
      "/kaggle/input/images-3/liver_108.nii\n",
      "/kaggle/input/images-3/liver_95.nii\n",
      "/kaggle/input/images-3/liver_69.nii\n",
      "/kaggle/input/images-3/liver_36.nii\n",
      "/kaggle/input/images-3/liver_124.nii\n",
      "/kaggle/input/images-3/liver_99.nii\n",
      "/kaggle/input/images-3/liver_48.nii\n",
      "/kaggle/input/images-3/liver_42.nii\n",
      "/kaggle/input/images-3/liver_52.nii\n",
      "/kaggle/input/images-3/liver_119.nii\n",
      "/kaggle/input/images-3/liver_129.nii\n",
      "/kaggle/input/images-3/liver_41.nii\n",
      "/kaggle/input/images-3/liver_88.nii\n",
      "/kaggle/input/images-3/liver_33.nii\n",
      "/kaggle/input/images-3/liver_57.nii\n",
      "/kaggle/input/images-3/liver_45.nii\n",
      "/kaggle/input/images-3/liver_114.nii\n",
      "/kaggle/input/images-3/liver_126.nii\n",
      "/kaggle/input/images-3/liver_74.nii\n",
      "/kaggle/input/images-3/liver_122.nii\n",
      "/kaggle/input/images-3/liver_71.nii\n",
      "/kaggle/input/images-3/liver_98.nii\n",
      "/kaggle/input/images-3/liver_58.nii\n",
      "/kaggle/input/images-3/liver_65.nii\n",
      "/kaggle/input/images-3/liver_123.nii\n",
      "/kaggle/input/images-3/liver_47.nii\n",
      "/kaggle/input/images-3/liver_130.nii\n",
      "/kaggle/input/images-3/liver_62.nii\n",
      "/kaggle/input/images-3/liver_70.nii\n",
      "/kaggle/input/images-3/liver_115.nii\n",
      "/kaggle/input/images-3/liver_106.nii\n",
      "/kaggle/input/images-3/liver_100.nii\n",
      "/kaggle/input/images-3/liver_60.nii\n",
      "/kaggle/input/images-3/liver_37.nii\n",
      "/kaggle/input/images-3/liver_82.nii\n",
      "/kaggle/input/images-3/liver_79.nii\n",
      "/kaggle/input/labels-1/liver_9.nii\n",
      "/kaggle/input/labels-1/liver_4.nii\n",
      "/kaggle/input/labels-1/liver_7.nii\n",
      "/kaggle/input/labels-1/liver_0.nii\n",
      "/kaggle/input/labels-1/liver_8.nii\n",
      "/kaggle/input/labels-1/liver_6.nii\n",
      "/kaggle/input/labels-1/liver_5.nii\n",
      "/kaggle/input/labels-1/liver_1.nii\n",
      "/kaggle/input/labels-1/liver_10.nii\n",
      "/kaggle/input/labels-1/liver_2.nii\n",
      "/kaggle/input/labels-1/liver_3.nii\n"
     ]
    }
   ],
   "source": [
    "# This Python 3 environment comes with many helpful analytics libraries installed\n",
    "# It is defined by the kaggle/python Docker image: https://github.com/kaggle/docker-python\n",
    "# For example, here's several helpful packages to load\n",
    "\n",
    "import numpy as np # linear algebra\n",
    "import pandas as pd # data processing, CSV file I/O (e.g. pd.read_csv)\n",
    "\n",
    "# Input data files are available in the read-only \"../input/\" directory\n",
    "# For example, running this (by clicking run or pressing Shift+Enter) will list all files under the input directory\n",
    "\n",
    "import os\n",
    "for dirname, _, filenames in os.walk('/kaggle/input'):\n",
    "    for filename in filenames:\n",
    "        print(os.path.join(dirname, filename))\n",
    "\n",
    "# You can write up to 20GB to the current directory (/kaggle/working/) that gets preserved as output when you create a version using \"Save & Run All\" \n",
    "# You can also write temporary files to /kaggle/temp/, but they won't be saved outside of the current session"
   ]
  },
  {
   "cell_type": "markdown",
   "metadata": {},
   "source": [
    "Importing libraries and Monai transformations"
   ]
  },
  {
   "cell_type": "code",
   "execution_count": 4,
   "metadata": {
    "execution": {
     "iopub.execute_input": "2024-10-03T10:28:27.178636Z",
     "iopub.status.busy": "2024-10-03T10:28:27.177768Z",
     "iopub.status.idle": "2024-10-03T10:28:27.184936Z",
     "shell.execute_reply": "2024-10-03T10:28:27.183812Z",
     "shell.execute_reply.started": "2024-10-03T10:28:27.178561Z"
    },
    "trusted": true
   },
   "outputs": [],
   "source": [
    "import os\n",
    "from glob import glob\n",
    "#import shutil\n",
    "#from tqdm import tqdm\n",
    "#import dicom2nifti\n",
    "#import numpy as np\n",
    "#import nibabel as nib\n",
    "#!pip install monai\n",
    "from monai.transforms import (\n",
    "    Compose,\n",
    "    EnsureChannelFirstD,\n",
    "    LoadImaged,\n",
    "    Resized,\n",
    "    ToTensord,\n",
    "    Spacingd,\n",
    "    Orientationd,\n",
    "    ScaleIntensityRanged,\n",
    "    CropForegroundd,\n",
    "\n",
    ")\n",
    "from monai.data import DataLoader, Dataset, CacheDataset\n",
    "from monai.utils import set_determinism"
   ]
  },
  {
   "cell_type": "markdown",
   "metadata": {},
   "source": [
    "Data Preprocessing Pipeline"
   ]
  },
  {
   "cell_type": "code",
   "execution_count": 5,
   "metadata": {
    "execution": {
     "iopub.execute_input": "2024-10-03T10:28:31.089467Z",
     "iopub.status.busy": "2024-10-03T10:28:31.089096Z",
     "iopub.status.idle": "2024-10-03T10:28:31.106348Z",
     "shell.execute_reply": "2024-10-03T10:28:31.105240Z",
     "shell.execute_reply.started": "2024-10-03T10:28:31.089432Z"
    },
    "trusted": true
   },
   "outputs": [],
   "source": [
    "import os\n",
    "import torch\n",
    "import numpy as np\n",
    "from glob import glob\n",
    "from monai.transforms import (\n",
    "    Compose, LoadImaged, EnsureChannelFirstD, Spacingd, Orientationd, \n",
    "    ScaleIntensityRanged, CropForegroundd, Resized, ToTensord, MapTransform\n",
    ")\n",
    "from monai.data import CacheDataset, DataLoader, Dataset\n",
    "from monai.utils import set_determinism\n",
    "\n",
    "# Custom normalization transform\n",
    "class NormalizeToOneRange(MapTransform):\n",
    "    \"\"\"\n",
    "    A transform that normalizes the values of the image to the range [0, 1].\n",
    "    \"\"\"\n",
    "    def __init__(self, keys):\n",
    "        super().__init__(keys)\n",
    "    \n",
    "    def __call__(self, data):\n",
    "        d = dict(data)\n",
    "        for key in self.keys:\n",
    "            image_min = d[key].min()\n",
    "            image_max = d[key].max()\n",
    "            if image_max > image_min:\n",
    "                d[key] = (d[key] - image_min) / (image_max - image_min)\n",
    "            else:\n",
    "                d[key] = np.zeros_like(d[key])  # Handle case where the range is 0\n",
    "        return d\n",
    "\n",
    "def prepare(images_dir, labels_dir, pixdim=(1.5, 1.5, 1.0), a_min=-200, a_max=200, spatial_size=[128, 128, 64], cache=True):\n",
    "    \"\"\"\n",
    "    This function prepares and preprocesses the MRI and segmentation data.\n",
    "    It includes basic transforms and normalization.\n",
    "    \"\"\"\n",
    "\n",
    "    set_determinism(seed=0)\n",
    "\n",
    "    # Get the paths for volumes and segmentation directly from the provided directories\n",
    "    path_train_volumes = sorted(glob(os.path.join(images_dir, \"*.nii\")))\n",
    "    path_train_segmentation = sorted(glob(os.path.join(labels_dir, \"*.nii\")))\n",
    "\n",
    "    # Check if files were found\n",
    "    if not path_train_volumes:\n",
    "        raise ValueError(f\"No image files found in {images_dir}\")\n",
    "    if not path_train_segmentation:\n",
    "        raise ValueError(f\"No label files found in {labels_dir}\")\n",
    "\n",
    "    # Create the train_files list\n",
    "    train_files = [{\"vol\": image_name, \"seg\": label_name} for image_name, label_name in\n",
    "                   zip(path_train_volumes, path_train_segmentation)]\n",
    "\n",
    "    # Define the transformation pipeline\n",
    "    train_transforms = Compose(\n",
    "        [\n",
    "            LoadImaged(keys=[\"vol\", \"seg\"]),\n",
    "            EnsureChannelFirstD(keys=[\"vol\", \"seg\"]),\n",
    "            Spacingd(keys=[\"vol\", \"seg\"], pixdim=pixdim, mode=(\"bilinear\", \"nearest\")),\n",
    "            Orientationd(keys=[\"vol\", \"seg\"], axcodes=\"RAS\"),\n",
    "            ScaleIntensityRanged(keys=[\"vol\"], a_min=a_min, a_max=a_max, b_min=0.0, b_max=1.0, clip=True),\n",
    "            CropForegroundd(keys=[\"vol\", \"seg\"], source_key=\"vol\"),\n",
    "            Resized(keys=[\"vol\", \"seg\"], spatial_size=spatial_size),\n",
    "            NormalizeToOneRange(keys=[\"vol\"]),  # Add custom normalization to range [0, 1]\n",
    "            ToTensord(keys=[\"vol\", \"seg\"]),\n",
    "        ]\n",
    "    )\n",
    "\n",
    "    # Load the dataset using CacheDataset or regular Dataset\n",
    "    if cache:\n",
    "        train_ds = CacheDataset(data=train_files, transform=train_transforms, cache_rate=1.0)\n",
    "        train_loader = DataLoader(train_ds, batch_size=2)\n",
    "        return train_loader\n",
    "    else:\n",
    "        train_ds = Dataset(data=train_files, transform=train_transforms)\n",
    "        train_loader = DataLoader(train_ds, batch_size=2)\n",
    "        return train_loader\n"
   ]
  },
  {
   "cell_type": "code",
   "execution_count": null,
   "metadata": {
    "execution": {
     "iopub.execute_input": "2024-09-26T13:20:54.296282Z",
     "iopub.status.busy": "2024-09-26T13:20:54.295837Z",
     "iopub.status.idle": "2024-09-26T13:21:12.543562Z",
     "shell.execute_reply": "2024-09-26T13:21:12.542302Z",
     "shell.execute_reply.started": "2024-09-26T13:20:54.296241Z"
    },
    "trusted": true
   },
   "outputs": [],
   "source": [
    "# Create a folder named 'unzipped_folder' (or any other name)\n",
    "!mkdir images\n",
    "# Unzip the file into the 'unzipped_folder' directory\n",
    "!unzip \"Archive 3.zip\" -d images"
   ]
  },
  {
   "cell_type": "code",
   "execution_count": 6,
   "metadata": {
    "execution": {
     "iopub.execute_input": "2024-10-03T10:28:34.356110Z",
     "iopub.status.busy": "2024-10-03T10:28:34.355730Z",
     "iopub.status.idle": "2024-10-03T10:31:01.372604Z",
     "shell.execute_reply": "2024-10-03T10:31:01.371531Z",
     "shell.execute_reply.started": "2024-10-03T10:28:34.356073Z"
    },
    "trusted": true
   },
   "outputs": [
    {
     "name": "stderr",
     "output_type": "stream",
     "text": [
      "/opt/conda/lib/python3.10/site-packages/monai/utils/deprecate_utils.py:321: FutureWarning: monai.transforms.croppad.dictionary CropForegroundd.__init__:allow_smaller: Current default value of argument `allow_smaller=True` has been deprecated since version 1.2. It will be changed to `allow_smaller=False` in version 1.5.\n",
      "  warn_deprecated(argname, msg, warning_category)\n",
      "Loading dataset: 100%|██████████| 11/11 [02:26<00:00, 13.36s/it]\n"
     ]
    }
   ],
   "source": [
    "label_dir='/kaggle/input/labels-1'\n",
    "image_dir='/kaggle/input/image-1'\n",
    "data_in = prepare(image_dir, label_dir, cache=True)"
   ]
  },
  {
   "cell_type": "markdown",
   "metadata": {},
   "source": [
    " Convolutional neural network with residual connections and attention mechanisms"
   ]
  },
  {
   "cell_type": "code",
   "execution_count": 7,
   "metadata": {
    "execution": {
     "iopub.execute_input": "2024-10-03T10:31:05.890275Z",
     "iopub.status.busy": "2024-10-03T10:31:05.889884Z",
     "iopub.status.idle": "2024-10-03T10:31:08.369269Z",
     "shell.execute_reply": "2024-10-03T10:31:08.368280Z",
     "shell.execute_reply.started": "2024-10-03T10:31:05.890234Z"
    },
    "trusted": true
   },
   "outputs": [
    {
     "name": "stdout",
     "output_type": "stream",
     "text": [
      "torch.Size([1, 1, 128, 128, 64])\n"
     ]
    }
   ],
   "source": [
    "#working p2\n",
    "\n",
    "import torch\n",
    "import torch.nn as nn\n",
    "import torch.nn.functional as F\n",
    "\n",
    "class PatchEmbedding(nn.Module):\n",
    "    def __init__(self, in_channels, patch_size, embed_dim):\n",
    "        super(PatchEmbedding, self).__init__()\n",
    "        # Reduced number of filters in the convolution layer\n",
    "        self.conv = nn.Conv3d(in_channels, embed_dim, kernel_size=patch_size, stride=1, padding=patch_size // 2)\n",
    "\n",
    "    def forward(self, x):\n",
    "        return self.conv(x)  # Keeps original spatial dimensions\n",
    "\n",
    "class ChannelAttention(nn.Module):\n",
    "    def __init__(self, in_planes, reduction_ratio=8):  # Reduced reduction ratio\n",
    "        super(ChannelAttention, self).__init__()\n",
    "        self.fc1 = nn.Conv3d(in_planes, in_planes // reduction_ratio, kernel_size=1, bias=False)\n",
    "        self.fc2 = nn.Conv3d(in_planes // reduction_ratio, in_planes, kernel_size=1, bias=False)\n",
    "\n",
    "    def forward(self, x):\n",
    "        avg_pool = torch.mean(x, dim=(2, 3, 4), keepdim=True)  # Global Average Pooling\n",
    "        max_pool = torch.amax(x, dim=(2, 3, 4), keepdim=True)  # Global Max Pooling\n",
    "\n",
    "        avg_out = self.fc2(F.relu(self.fc1(avg_pool)))\n",
    "        max_out = self.fc2(F.relu(self.fc1(max_pool)))\n",
    "        return torch.sigmoid(avg_out + max_out)\n",
    "\n",
    "class SpatialAttention(nn.Module):\n",
    "    def __init__(self, kernel_size=3):  # Reduced kernel size\n",
    "        super(SpatialAttention, self).__init__()\n",
    "        self.conv = nn.Conv3d(2, 1, kernel_size=kernel_size, padding=kernel_size // 2)\n",
    "\n",
    "    def forward(self, x):\n",
    "        avg_pool = torch.mean(x, dim=1, keepdim=True)\n",
    "        max_pool = torch.max(x, dim=1, keepdim=True).values\n",
    "        concat = torch.cat([avg_pool, max_pool], dim=1)\n",
    "        return x * torch.sigmoid(self.conv(concat))\n",
    "\n",
    "class ConvBlock(nn.Module):\n",
    "    def __init__(self, in_channels, out_channels, kernel_size=3, stride=1, padding=1):\n",
    "        super(ConvBlock, self).__init__()\n",
    "        # Reduced number of filters in the convolution layer\n",
    "        self.conv = nn.Conv3d(in_channels, out_channels, kernel_size=kernel_size, stride=stride, padding=padding)\n",
    "        self.bn = nn.BatchNorm3d(out_channels)\n",
    "        self.relu = nn.ReLU()\n",
    "\n",
    "    def forward(self, x):\n",
    "        x = self.conv(x)\n",
    "        x = self.bn(x)\n",
    "        return self.relu(x)\n",
    "\n",
    "class ResidualBlockWithAttention(nn.Module):\n",
    "    def __init__(self, in_channels, out_channels, downsample=False):\n",
    "        super(ResidualBlockWithAttention, self).__init__()\n",
    "        stride = 2 if downsample else 1\n",
    "        self.conv1 = ConvBlock(in_channels, out_channels, stride=stride)\n",
    "        self.conv2 = ConvBlock(out_channels, out_channels, stride=1)\n",
    "        self.downsample = nn.Conv3d(in_channels, out_channels, kernel_size=1, stride=stride) if downsample else None\n",
    "\n",
    "        # Attention layers\n",
    "        self.channel_attn = ChannelAttention(out_channels)\n",
    "        self.spatial_attn = SpatialAttention()\n",
    "\n",
    "    def forward(self, x):\n",
    "        residual = x\n",
    "        x = self.conv1(x)\n",
    "        x = self.conv2(x)\n",
    "\n",
    "        # Apply channel and spatial attention\n",
    "        x = self.channel_attn(x)\n",
    "        x = self.spatial_attn(x)\n",
    "        \n",
    "        if self.downsample is not None:\n",
    "            residual = self.downsample(residual)\n",
    "        \n",
    "        return x + residual  # Residual connection\n",
    "\n",
    "class UpsampleBlock(nn.Module):\n",
    "    def __init__(self, in_channels, out_channels):\n",
    "        super(UpsampleBlock, self).__init__()\n",
    "        # Reduced number of filters in the transposed convolution layer\n",
    "        self.upsample = nn.ConvTranspose3d(in_channels, out_channels, kernel_size=2, stride=2)\n",
    "        self.conv = ConvBlock(out_channels, out_channels)\n",
    "\n",
    "    def forward(self, x):\n",
    "        x = self.upsample(x)\n",
    "        return self.conv(x)\n",
    "\n",
    "class ConvNetWithAttention(nn.Module):\n",
    "    def __init__(self, in_channels, patch_size, embed_dim, num_classes):\n",
    "        super(ConvNetWithAttention, self).__init__()\n",
    "        self.patch_embedding = PatchEmbedding(in_channels, patch_size, embed_dim)\n",
    "        \n",
    "        # Convolutional blocks with residual connections and attention mechanisms\n",
    "        self.res_block1 = ResidualBlockWithAttention(embed_dim, embed_dim * 2, downsample=True)\n",
    "        self.res_block2 = ResidualBlockWithAttention(embed_dim * 2, embed_dim * 2, downsample=True)  # Same number of filters\n",
    "        self.res_block3 = ResidualBlockWithAttention(embed_dim * 2, embed_dim * 2, downsample=True)  # Same number of filters\n",
    "        \n",
    "        # Upsampling blocks to restore spatial dimensions\n",
    "        self.up_block1 = UpsampleBlock(embed_dim * 2, embed_dim)\n",
    "        self.up_block2 = UpsampleBlock(embed_dim, embed_dim)\n",
    "        self.up_block3 = UpsampleBlock(embed_dim, embed_dim)\n",
    "\n",
    "        # Final convolution to map to output classes\n",
    "        self.final_conv = nn.Conv3d(embed_dim, num_classes, kernel_size=1)\n",
    "\n",
    "    def forward(self, x):\n",
    "        # Embedding patches from the input\n",
    "        x = self.patch_embedding(x)  # Shape: [B, embed_dim, H', W', D']\n",
    "\n",
    "        # Downsampling through convolutional blocks with attention\n",
    "        x = self.res_block1(x)\n",
    "        x = self.res_block2(x)\n",
    "        x = self.res_block3(x)\n",
    "\n",
    "        # Upsampling to restore original spatial dimensions\n",
    "        x = self.up_block1(x)\n",
    "        x = self.up_block2(x)\n",
    "        x = self.up_block3(x)\n",
    "        \n",
    "        # Final convolution to generate output\n",
    "        x = self.final_conv(x)\n",
    "\n",
    "        # Crop output to the desired shape\n",
    "        x = x[:, :, :128, :128, :64]  # Crop to [B, C, 128, 128, 64]\n",
    "        \n",
    "        return x\n",
    "\n",
    "# Example usage\n",
    "if __name__ == \"__main__\":\n",
    "    in_channels = 1  # For grayscale images\n",
    "    patch_size = 4   # Define your patch size\n",
    "    embed_dim = 32   # Reduced embedding dimension\n",
    "    num_classes = 1  # Output classes (for single-channel output)\n",
    "\n",
    "    model = ConvNetWithAttention(in_channels, patch_size, embed_dim, num_classes)\n",
    "    \n",
    "    # Example input\n",
    "    images = torch.randn(1, 1, 128, 128, 64)  # Batch size 1, 1 channel, 128x128x64 3D input\n",
    "    outputs = model(images)\n",
    "    print(outputs.shape)  # Should output shape [1, 1, 128, 128, 64]\n"
   ]
  },
  {
   "cell_type": "markdown",
   "metadata": {},
   "source": [
    "Dice and Cross-Entropy loss"
   ]
  },
  {
   "cell_type": "code",
   "execution_count": 9,
   "metadata": {
    "execution": {
     "iopub.execute_input": "2024-09-29T07:40:18.652553Z",
     "iopub.status.busy": "2024-09-29T07:40:18.651815Z",
     "iopub.status.idle": "2024-09-29T08:31:54.003644Z",
     "shell.execute_reply": "2024-09-29T08:31:54.002621Z",
     "shell.execute_reply.started": "2024-09-29T07:40:18.652513Z"
    },
    "trusted": true
   },
   "outputs": [
    {
     "name": "stderr",
     "output_type": "stream",
     "text": [
      "/tmp/ipykernel_30/2360600538.py:113: FutureWarning: You are using `torch.load` with `weights_only=False` (the current default value), which uses the default pickle module implicitly. It is possible to construct malicious pickle data which will execute arbitrary code during unpickling (See https://github.com/pytorch/pytorch/blob/main/SECURITY.md#untrusted-models for more details). In a future release, the default value for `weights_only` will be flipped to `True`. This limits the functions that could be executed during unpickling. Arbitrary objects will no longer be allowed to be loaded via this mode unless they are explicitly allowlisted by the user via `torch.serialization.add_safe_globals`. We recommend you start setting `weights_only=True` for any use case where you don't have full control of the loaded file. Please open an issue on GitHub for any issues related to this experimental feature.\n",
      "  model.load_state_dict(torch.load(pretrained_model_path))\n"
     ]
    },
    {
     "name": "stdout",
     "output_type": "stream",
     "text": [
      "Loaded pre-trained model\n"
     ]
    },
    {
     "name": "stderr",
     "output_type": "stream",
     "text": [
      "100%|██████████| 50/50 [00:45<00:00,  1.10it/s]\n"
     ]
    },
    {
     "name": "stdout",
     "output_type": "stream",
     "text": [
      "Epoch [1/60], Loss: 0.2697281113266945\n",
      "Validation Loss: 0.27272169172763827, Dice Score: 0.5345310813188553\n"
     ]
    },
    {
     "name": "stderr",
     "output_type": "stream",
     "text": [
      "100%|██████████| 50/50 [00:44<00:00,  1.12it/s]\n"
     ]
    },
    {
     "name": "stdout",
     "output_type": "stream",
     "text": [
      "Epoch [2/60], Loss: 0.2608911570906639\n",
      "Validation Loss: 0.28019618928432466, Dice Score: 0.5199696701765061\n"
     ]
    },
    {
     "name": "stderr",
     "output_type": "stream",
     "text": [
      "100%|██████████| 50/50 [00:44<00:00,  1.12it/s]\n"
     ]
    },
    {
     "name": "stdout",
     "output_type": "stream",
     "text": [
      "Epoch [3/60], Loss: 0.2471370044350624\n",
      "Validation Loss: 0.27060043036937714, Dice Score: 0.5404500728845596\n"
     ]
    },
    {
     "name": "stderr",
     "output_type": "stream",
     "text": [
      "100%|██████████| 50/50 [00:44<00:00,  1.12it/s]\n"
     ]
    },
    {
     "name": "stdout",
     "output_type": "stream",
     "text": [
      "Epoch [4/60], Loss: 0.23770411878824235\n",
      "Validation Loss: 0.24780889540910722, Dice Score: 0.5830590957403183\n"
     ]
    },
    {
     "name": "stderr",
     "output_type": "stream",
     "text": [
      "100%|██████████| 50/50 [00:44<00:00,  1.12it/s]\n"
     ]
    },
    {
     "name": "stdout",
     "output_type": "stream",
     "text": [
      "Epoch [5/60], Loss: 0.22561171382665635\n",
      "Validation Loss: 0.2444826966524124, Dice Score: 0.589669355750084\n"
     ]
    },
    {
     "name": "stderr",
     "output_type": "stream",
     "text": [
      "100%|██████████| 50/50 [00:44<00:00,  1.12it/s]\n"
     ]
    },
    {
     "name": "stdout",
     "output_type": "stream",
     "text": [
      "Epoch [6/60], Loss: 0.22023733496665954\n",
      "Validation Loss: 0.24053032755851744, Dice Score: 0.5985603708028794\n"
     ]
    },
    {
     "name": "stderr",
     "output_type": "stream",
     "text": [
      "100%|██████████| 50/50 [00:44<00:00,  1.12it/s]\n"
     ]
    },
    {
     "name": "stdout",
     "output_type": "stream",
     "text": [
      "Epoch [7/60], Loss: 0.2122242668271065\n",
      "Validation Loss: 0.23283613890409469, Dice Score: 0.6118096733093261\n"
     ]
    },
    {
     "name": "stderr",
     "output_type": "stream",
     "text": [
      "100%|██████████| 50/50 [00:44<00:00,  1.12it/s]\n"
     ]
    },
    {
     "name": "stdout",
     "output_type": "stream",
     "text": [
      "Epoch [8/60], Loss: 0.20880167156457902\n",
      "Validation Loss: 0.23876756936311722, Dice Score: 0.6049252086877823\n"
     ]
    },
    {
     "name": "stderr",
     "output_type": "stream",
     "text": [
      "100%|██████████| 50/50 [00:44<00:00,  1.12it/s]\n"
     ]
    },
    {
     "name": "stdout",
     "output_type": "stream",
     "text": [
      "Epoch [9/60], Loss: 0.20274158090353012\n",
      "Validation Loss: 0.27708938300609587, Dice Score: 0.541010189652443\n"
     ]
    },
    {
     "name": "stderr",
     "output_type": "stream",
     "text": [
      "100%|██████████| 50/50 [00:44<00:00,  1.12it/s]\n"
     ]
    },
    {
     "name": "stdout",
     "output_type": "stream",
     "text": [
      "Epoch [10/60], Loss: 0.20474248260259628\n",
      "Validation Loss: 0.21071346879005431, Dice Score: 0.6471984279155731\n"
     ]
    },
    {
     "name": "stderr",
     "output_type": "stream",
     "text": [
      "100%|██████████| 50/50 [00:44<00:00,  1.12it/s]\n"
     ]
    },
    {
     "name": "stdout",
     "output_type": "stream",
     "text": [
      "Epoch [11/60], Loss: 0.20365877389907838\n",
      "Validation Loss: 0.25639777302742006, Dice Score: 0.5702451419830322\n"
     ]
    },
    {
     "name": "stderr",
     "output_type": "stream",
     "text": [
      "100%|██████████| 50/50 [00:44<00:00,  1.12it/s]\n"
     ]
    },
    {
     "name": "stdout",
     "output_type": "stream",
     "text": [
      "Epoch [12/60], Loss: 0.19589344203472137\n",
      "Validation Loss: 0.34106436759233477, Dice Score: 0.43405568331480027\n"
     ]
    },
    {
     "name": "stderr",
     "output_type": "stream",
     "text": [
      "100%|██████████| 50/50 [00:44<00:00,  1.12it/s]\n"
     ]
    },
    {
     "name": "stdout",
     "output_type": "stream",
     "text": [
      "Epoch [13/60], Loss: 0.19586869925260544\n",
      "Validation Loss: 0.26992988094687465, Dice Score: 0.5514542102813721\n"
     ]
    },
    {
     "name": "stderr",
     "output_type": "stream",
     "text": [
      "100%|██████████| 50/50 [00:44<00:00,  1.12it/s]\n"
     ]
    },
    {
     "name": "stdout",
     "output_type": "stream",
     "text": [
      "Epoch [14/60], Loss: 0.2160351452231407\n",
      "Validation Loss: 0.22946780413389206, Dice Score: 0.611827798485756\n"
     ]
    },
    {
     "name": "stderr",
     "output_type": "stream",
     "text": [
      "100%|██████████| 50/50 [00:44<00:00,  1.12it/s]\n"
     ]
    },
    {
     "name": "stdout",
     "output_type": "stream",
     "text": [
      "Epoch [15/60], Loss: 0.2166070058941841\n",
      "Validation Loss: 0.3565081539750099, Dice Score: 0.3951308007538319\n"
     ]
    },
    {
     "name": "stderr",
     "output_type": "stream",
     "text": [
      "100%|██████████| 50/50 [00:44<00:00,  1.12it/s]\n"
     ]
    },
    {
     "name": "stdout",
     "output_type": "stream",
     "text": [
      "Epoch [16/60], Loss: 0.2232917705178261\n",
      "Validation Loss: 0.21129981979727744, Dice Score: 0.644273282289505\n"
     ]
    },
    {
     "name": "stderr",
     "output_type": "stream",
     "text": [
      "100%|██████████| 50/50 [00:44<00:00,  1.12it/s]\n"
     ]
    },
    {
     "name": "stdout",
     "output_type": "stream",
     "text": [
      "Epoch [17/60], Loss: 0.20501067459583283\n",
      "Validation Loss: 0.20686944261193274, Dice Score: 0.6596851205825806\n"
     ]
    },
    {
     "name": "stderr",
     "output_type": "stream",
     "text": [
      "100%|██████████| 50/50 [00:44<00:00,  1.12it/s]\n"
     ]
    },
    {
     "name": "stdout",
     "output_type": "stream",
     "text": [
      "Epoch [18/60], Loss: 0.18253858849406243\n",
      "Validation Loss: 0.19374966591596604, Dice Score: 0.6771770906448364\n"
     ]
    },
    {
     "name": "stderr",
     "output_type": "stream",
     "text": [
      "100%|██████████| 50/50 [00:44<00:00,  1.12it/s]\n"
     ]
    },
    {
     "name": "stdout",
     "output_type": "stream",
     "text": [
      "Epoch [19/60], Loss: 0.17549149200320244\n",
      "Validation Loss: 0.18518224835395813, Dice Score: 0.6907519280910492\n"
     ]
    },
    {
     "name": "stderr",
     "output_type": "stream",
     "text": [
      "100%|██████████| 50/50 [00:44<00:00,  1.12it/s]\n"
     ]
    },
    {
     "name": "stdout",
     "output_type": "stream",
     "text": [
      "Epoch [20/60], Loss: 0.17316416576504706\n",
      "Validation Loss: 0.18608637481927873, Dice Score: 0.6908665716648101\n"
     ]
    },
    {
     "name": "stderr",
     "output_type": "stream",
     "text": [
      "100%|██████████| 50/50 [00:44<00:00,  1.12it/s]\n"
     ]
    },
    {
     "name": "stdout",
     "output_type": "stream",
     "text": [
      "Epoch [21/60], Loss: 0.17159344255924225\n",
      "Validation Loss: 0.1945305858552456, Dice Score: 0.679014783501625\n"
     ]
    },
    {
     "name": "stderr",
     "output_type": "stream",
     "text": [
      "100%|██████████| 50/50 [00:44<00:00,  1.12it/s]\n"
     ]
    },
    {
     "name": "stdout",
     "output_type": "stream",
     "text": [
      "Epoch [22/60], Loss: 0.17446705102920532\n",
      "Validation Loss: 0.2722890478372574, Dice Score: 0.543298941552639\n"
     ]
    },
    {
     "name": "stderr",
     "output_type": "stream",
     "text": [
      "100%|██████████| 50/50 [00:44<00:00,  1.12it/s]\n"
     ]
    },
    {
     "name": "stdout",
     "output_type": "stream",
     "text": [
      "Epoch [23/60], Loss: 0.17619390472769736\n",
      "Validation Loss: 0.19178936138749123, Dice Score: 0.6840693587064743\n"
     ]
    },
    {
     "name": "stderr",
     "output_type": "stream",
     "text": [
      "100%|██████████| 50/50 [00:44<00:00,  1.12it/s]\n"
     ]
    },
    {
     "name": "stdout",
     "output_type": "stream",
     "text": [
      "Epoch [24/60], Loss: 0.18700832530856132\n",
      "Validation Loss: 0.23900523155927658, Dice Score: 0.6055469518899917\n"
     ]
    },
    {
     "name": "stderr",
     "output_type": "stream",
     "text": [
      "100%|██████████| 50/50 [00:44<00:00,  1.12it/s]\n"
     ]
    },
    {
     "name": "stdout",
     "output_type": "stream",
     "text": [
      "Epoch [25/60], Loss: 0.18351176023483276\n",
      "Validation Loss: 0.21316947668790817, Dice Score: 0.6464025396108627\n"
     ]
    },
    {
     "name": "stderr",
     "output_type": "stream",
     "text": [
      "100%|██████████| 50/50 [00:44<00:00,  1.12it/s]\n"
     ]
    },
    {
     "name": "stdout",
     "output_type": "stream",
     "text": [
      "Epoch [26/60], Loss: 0.18225103467702866\n",
      "Validation Loss: 0.20982148617506027, Dice Score: 0.6672696113586426\n"
     ]
    },
    {
     "name": "stderr",
     "output_type": "stream",
     "text": [
      "100%|██████████| 50/50 [00:44<00:00,  1.12it/s]\n"
     ]
    },
    {
     "name": "stdout",
     "output_type": "stream",
     "text": [
      "Epoch [27/60], Loss: 0.1828468507528305\n",
      "Validation Loss: 0.234769846200943, Dice Score: 0.6409203666448593\n"
     ]
    },
    {
     "name": "stderr",
     "output_type": "stream",
     "text": [
      "100%|██████████| 50/50 [00:44<00:00,  1.12it/s]\n"
     ]
    },
    {
     "name": "stdout",
     "output_type": "stream",
     "text": [
      "Epoch [28/60], Loss: 0.17727402940392495\n",
      "Validation Loss: 0.1980562001466751, Dice Score: 0.6854121387004852\n"
     ]
    },
    {
     "name": "stderr",
     "output_type": "stream",
     "text": [
      "100%|██████████| 50/50 [00:44<00:00,  1.12it/s]\n"
     ]
    },
    {
     "name": "stdout",
     "output_type": "stream",
     "text": [
      "Epoch [29/60], Loss: 0.17491848275065422\n",
      "Validation Loss: 0.18126485794782637, Dice Score: 0.7070234149694443\n"
     ]
    },
    {
     "name": "stderr",
     "output_type": "stream",
     "text": [
      "100%|██████████| 50/50 [00:44<00:00,  1.12it/s]\n"
     ]
    },
    {
     "name": "stdout",
     "output_type": "stream",
     "text": [
      "Epoch [30/60], Loss: 0.17343151375651358\n",
      "Validation Loss: 0.1785482583940029, Dice Score: 0.7111234390735626\n"
     ]
    },
    {
     "name": "stderr",
     "output_type": "stream",
     "text": [
      "100%|██████████| 50/50 [00:44<00:00,  1.12it/s]\n"
     ]
    },
    {
     "name": "stdout",
     "output_type": "stream",
     "text": [
      "Epoch [31/60], Loss: 0.1745334815979004\n",
      "Validation Loss: 0.18553130447864533, Dice Score: 0.6980275177955627\n"
     ]
    },
    {
     "name": "stderr",
     "output_type": "stream",
     "text": [
      "100%|██████████| 50/50 [00:44<00:00,  1.12it/s]\n"
     ]
    },
    {
     "name": "stdout",
     "output_type": "stream",
     "text": [
      "Epoch [32/60], Loss: 0.1727697294950485\n",
      "Validation Loss: 0.18311513662338258, Dice Score: 0.6992988073825837\n"
     ]
    },
    {
     "name": "stderr",
     "output_type": "stream",
     "text": [
      "100%|██████████| 50/50 [00:44<00:00,  1.12it/s]\n"
     ]
    },
    {
     "name": "stdout",
     "output_type": "stream",
     "text": [
      "Epoch [33/60], Loss: 0.18366644501686097\n",
      "Validation Loss: 0.1826659069955349, Dice Score: 0.6931242430210114\n"
     ]
    },
    {
     "name": "stderr",
     "output_type": "stream",
     "text": [
      "100%|██████████| 50/50 [00:44<00:00,  1.12it/s]\n"
     ]
    },
    {
     "name": "stdout",
     "output_type": "stream",
     "text": [
      "Epoch [34/60], Loss: 0.17257898151874543\n",
      "Validation Loss: 0.20247707039117813, Dice Score: 0.6680881273746491\n"
     ]
    },
    {
     "name": "stderr",
     "output_type": "stream",
     "text": [
      "100%|██████████| 50/50 [00:44<00:00,  1.12it/s]\n"
     ]
    },
    {
     "name": "stdout",
     "output_type": "stream",
     "text": [
      "Epoch [35/60], Loss: 0.17726006790995597\n",
      "Validation Loss: 0.25575413793325424, Dice Score: 0.5807713878154754\n"
     ]
    },
    {
     "name": "stderr",
     "output_type": "stream",
     "text": [
      "100%|██████████| 50/50 [00:44<00:00,  1.12it/s]\n"
     ]
    },
    {
     "name": "stdout",
     "output_type": "stream",
     "text": [
      "Epoch [36/60], Loss: 0.17796749487519264\n",
      "Validation Loss: 0.2258088034391403, Dice Score: 0.6251510572433472\n"
     ]
    },
    {
     "name": "stderr",
     "output_type": "stream",
     "text": [
      "100%|██████████| 50/50 [00:44<00:00,  1.12it/s]\n"
     ]
    },
    {
     "name": "stdout",
     "output_type": "stream",
     "text": [
      "Epoch [37/60], Loss: 0.1773008795082569\n",
      "Validation Loss: 0.24388229131698608, Dice Score: 0.6011120694875717\n"
     ]
    },
    {
     "name": "stderr",
     "output_type": "stream",
     "text": [
      "100%|██████████| 50/50 [00:44<00:00,  1.12it/s]\n"
     ]
    },
    {
     "name": "stdout",
     "output_type": "stream",
     "text": [
      "Epoch [38/60], Loss: 0.17182580679655074\n",
      "Validation Loss: 0.299873825609684, Dice Score: 0.5078210411965847\n"
     ]
    },
    {
     "name": "stderr",
     "output_type": "stream",
     "text": [
      "100%|██████████| 50/50 [00:44<00:00,  1.12it/s]\n"
     ]
    },
    {
     "name": "stdout",
     "output_type": "stream",
     "text": [
      "Epoch [39/60], Loss: 0.1692211575806141\n",
      "Validation Loss: 0.21755150586366653, Dice Score: 0.6371491485834122\n"
     ]
    },
    {
     "name": "stderr",
     "output_type": "stream",
     "text": [
      "100%|██████████| 50/50 [00:44<00:00,  1.12it/s]\n"
     ]
    },
    {
     "name": "stdout",
     "output_type": "stream",
     "text": [
      "Epoch [40/60], Loss: 0.1676857528090477\n",
      "Validation Loss: 0.20564647018909454, Dice Score: 0.6547065228223801\n"
     ]
    },
    {
     "name": "stderr",
     "output_type": "stream",
     "text": [
      "100%|██████████| 50/50 [00:44<00:00,  1.12it/s]\n"
     ]
    },
    {
     "name": "stdout",
     "output_type": "stream",
     "text": [
      "Epoch [41/60], Loss: 0.1672322390973568\n",
      "Validation Loss: 0.20374331668019294, Dice Score: 0.6591808527708054\n"
     ]
    },
    {
     "name": "stderr",
     "output_type": "stream",
     "text": [
      "100%|██████████| 50/50 [00:44<00:00,  1.12it/s]\n"
     ]
    },
    {
     "name": "stdout",
     "output_type": "stream",
     "text": [
      "Epoch [42/60], Loss: 0.17005317762494088\n",
      "Validation Loss: 0.22468578398227693, Dice Score: 0.6278563582897186\n"
     ]
    },
    {
     "name": "stderr",
     "output_type": "stream",
     "text": [
      "100%|██████████| 50/50 [00:44<00:00,  1.12it/s]\n"
     ]
    },
    {
     "name": "stdout",
     "output_type": "stream",
     "text": [
      "Epoch [43/60], Loss: 0.16789248511195182\n",
      "Validation Loss: 0.21881399899721146, Dice Score: 0.6263038992881775\n"
     ]
    },
    {
     "name": "stderr",
     "output_type": "stream",
     "text": [
      "100%|██████████| 50/50 [00:44<00:00,  1.12it/s]\n"
     ]
    },
    {
     "name": "stdout",
     "output_type": "stream",
     "text": [
      "Epoch [44/60], Loss: 0.16480701565742492\n",
      "Validation Loss: 0.2174482211470604, Dice Score: 0.626367489695549\n"
     ]
    },
    {
     "name": "stderr",
     "output_type": "stream",
     "text": [
      "100%|██████████| 50/50 [00:44<00:00,  1.12it/s]\n"
     ]
    },
    {
     "name": "stdout",
     "output_type": "stream",
     "text": [
      "Epoch [45/60], Loss: 0.16103100150823593\n",
      "Validation Loss: 0.18538550019264222, Dice Score: 0.6836161375045776\n"
     ]
    },
    {
     "name": "stderr",
     "output_type": "stream",
     "text": [
      "100%|██████████| 50/50 [00:44<00:00,  1.12it/s]\n"
     ]
    },
    {
     "name": "stdout",
     "output_type": "stream",
     "text": [
      "Epoch [46/60], Loss: 0.16170762598514557\n",
      "Validation Loss: 0.1698100370168686, Dice Score: 0.7142780959606171\n"
     ]
    },
    {
     "name": "stderr",
     "output_type": "stream",
     "text": [
      "100%|██████████| 50/50 [00:44<00:00,  1.12it/s]\n"
     ]
    },
    {
     "name": "stdout",
     "output_type": "stream",
     "text": [
      "Epoch [47/60], Loss: 0.16313052847981452\n",
      "Validation Loss: 0.18067718535661698, Dice Score: 0.698634113073349\n"
     ]
    },
    {
     "name": "stderr",
     "output_type": "stream",
     "text": [
      "100%|██████████| 50/50 [00:44<00:00,  1.12it/s]\n"
     ]
    },
    {
     "name": "stdout",
     "output_type": "stream",
     "text": [
      "Epoch [48/60], Loss: 0.15761712595820426\n",
      "Validation Loss: 0.1620834904909134, Dice Score: 0.7320702826976776\n"
     ]
    },
    {
     "name": "stderr",
     "output_type": "stream",
     "text": [
      "100%|██████████| 50/50 [00:44<00:00,  1.12it/s]\n"
     ]
    },
    {
     "name": "stdout",
     "output_type": "stream",
     "text": [
      "Epoch [49/60], Loss: 0.15310635834932326\n",
      "Validation Loss: 0.17008974641561508, Dice Score: 0.7204157900810242\n"
     ]
    },
    {
     "name": "stderr",
     "output_type": "stream",
     "text": [
      "100%|██████████| 50/50 [00:44<00:00,  1.12it/s]\n"
     ]
    },
    {
     "name": "stdout",
     "output_type": "stream",
     "text": [
      "Epoch [50/60], Loss: 0.14297177776694298\n",
      "Validation Loss: 0.14572532951831818, Dice Score: 0.7564023745059967\n"
     ]
    },
    {
     "name": "stderr",
     "output_type": "stream",
     "text": [
      "100%|██████████| 50/50 [00:44<00:00,  1.12it/s]\n"
     ]
    },
    {
     "name": "stdout",
     "output_type": "stream",
     "text": [
      "Epoch [51/60], Loss: 0.13767057225108148\n",
      "Validation Loss: 0.1431865854561329, Dice Score: 0.7608646714687347\n"
     ]
    },
    {
     "name": "stderr",
     "output_type": "stream",
     "text": [
      "100%|██████████| 50/50 [00:44<00:00,  1.12it/s]\n"
     ]
    },
    {
     "name": "stdout",
     "output_type": "stream",
     "text": [
      "Epoch [52/60], Loss: 0.13338091626763343\n",
      "Validation Loss: 0.14087844491004944, Dice Score: 0.7645295262336731\n"
     ]
    },
    {
     "name": "stderr",
     "output_type": "stream",
     "text": [
      "100%|██████████| 50/50 [00:44<00:00,  1.12it/s]\n"
     ]
    },
    {
     "name": "stdout",
     "output_type": "stream",
     "text": [
      "Epoch [53/60], Loss: 0.12883615404367446\n",
      "Validation Loss: 0.1359665136039257, Dice Score: 0.7727870225906373\n"
     ]
    },
    {
     "name": "stderr",
     "output_type": "stream",
     "text": [
      "100%|██████████| 50/50 [00:44<00:00,  1.12it/s]\n"
     ]
    },
    {
     "name": "stdout",
     "output_type": "stream",
     "text": [
      "Epoch [54/60], Loss: 0.12550457566976547\n",
      "Validation Loss: 0.13157110378146172, Dice Score: 0.780471898317337\n"
     ]
    },
    {
     "name": "stderr",
     "output_type": "stream",
     "text": [
      "100%|██████████| 50/50 [00:44<00:00,  1.12it/s]\n"
     ]
    },
    {
     "name": "stdout",
     "output_type": "stream",
     "text": [
      "Epoch [55/60], Loss: 0.12336058735847473\n",
      "Validation Loss: 0.12967997029423714, Dice Score: 0.7838572776317596\n"
     ]
    },
    {
     "name": "stderr",
     "output_type": "stream",
     "text": [
      "100%|██████████| 50/50 [00:44<00:00,  1.12it/s]\n"
     ]
    },
    {
     "name": "stdout",
     "output_type": "stream",
     "text": [
      "Epoch [56/60], Loss: 0.12180912643671035\n",
      "Validation Loss: 0.12849004790186883, Dice Score: 0.7861923563480377\n"
     ]
    },
    {
     "name": "stderr",
     "output_type": "stream",
     "text": [
      "100%|██████████| 50/50 [00:44<00:00,  1.12it/s]\n"
     ]
    },
    {
     "name": "stdout",
     "output_type": "stream",
     "text": [
      "Epoch [57/60], Loss: 0.12071765303611755\n",
      "Validation Loss: 0.12913400292396546, Dice Score: 0.7854803228378295\n"
     ]
    },
    {
     "name": "stderr",
     "output_type": "stream",
     "text": [
      "100%|██████████| 50/50 [00:44<00:00,  1.12it/s]\n"
     ]
    },
    {
     "name": "stdout",
     "output_type": "stream",
     "text": [
      "Epoch [58/60], Loss: 0.12022966176271438\n",
      "Validation Loss: 0.13922809541225434, Dice Score: 0.7696159851551055\n"
     ]
    },
    {
     "name": "stderr",
     "output_type": "stream",
     "text": [
      "100%|██████████| 50/50 [00:44<00:00,  1.12it/s]\n"
     ]
    },
    {
     "name": "stdout",
     "output_type": "stream",
     "text": [
      "Epoch [59/60], Loss: 0.12082176968455315\n",
      "Validation Loss: 0.14977649345993996, Dice Score: 0.7540429401397705\n"
     ]
    },
    {
     "name": "stderr",
     "output_type": "stream",
     "text": [
      "100%|██████████| 50/50 [00:44<00:00,  1.12it/s]\n"
     ]
    },
    {
     "name": "stdout",
     "output_type": "stream",
     "text": [
      "Epoch [60/60], Loss: 0.12348488792777061\n",
      "Validation Loss: 0.13129731744527817, Dice Score: 0.7817169559001923\n",
      "Finished Training\n"
     ]
    }
   ],
   "source": [
    "import os\n",
    "import torch\n",
    "import torch.optim as optim\n",
    "import torch.nn as nn\n",
    "from monai.losses import DiceLoss\n",
    "from torch.utils.data import DataLoader\n",
    "from tqdm import tqdm\n",
    "\n",
    "class DiceCELoss(nn.Module):\n",
    "    def __init__(self, alpha=0.5):\n",
    "        super(DiceCELoss, self).__init__()\n",
    "        self.dice_loss = DiceLoss(sigmoid=True)\n",
    "        self.cross_entropy_loss = nn.BCEWithLogitsLoss()\n",
    "        self.alpha = alpha\n",
    "\n",
    "    def forward(self, inputs, targets):\n",
    "        dice = self.dice_loss(inputs, targets)\n",
    "        ce = self.cross_entropy_loss(inputs, targets)\n",
    "        return self.alpha * dice + (1 - self.alpha) * ce\n",
    "\n",
    "def custom_dice_score(y_pred, y_true, epsilon=1e-6):\n",
    "    \"\"\"\n",
    "    Calculate the Dice Score.\n",
    "    Args:\n",
    "        y_pred: Predicted tensor (after sigmoid).\n",
    "        y_true: Ground truth tensor (binary mask).\n",
    "        epsilon: Small constant to avoid division by zero.\n",
    "    Returns:\n",
    "        Dice Score.\n",
    "    \"\"\"\n",
    "    # Flatten the tensors\n",
    "    y_pred_flat = y_pred.view(-1)\n",
    "    y_true_flat = y_true.view(-1)\n",
    "\n",
    "    intersection = (y_pred_flat * y_true_flat).sum()\n",
    "    dice_score = (2. * intersection + epsilon) / (y_pred_flat.sum() + y_true_flat.sum() + epsilon)\n",
    "    \n",
    "    return dice_score\n",
    "\n",
    "def train(model, train_loader, num_epochs, device):\n",
    "    # Define the loss function and optimizer\n",
    "    criterion = DiceCELoss(alpha=0.5)  # Using DiceCELoss\n",
    "    optimizer = optim.Adam(model.parameters(), lr=1e-4)\n",
    "\n",
    "    model.to(device)  # Move model to GPU\n",
    "    \n",
    "    for epoch in range(num_epochs):\n",
    "        model.train()\n",
    "        running_loss = 0.0\n",
    "\n",
    "        for batch in tqdm(train_loader):\n",
    "            # Move data to the GPU\n",
    "            inputs = batch[\"vol\"].to(device)\n",
    "            labels = batch[\"seg\"].to(device)\n",
    "            \n",
    "            optimizer.zero_grad()\n",
    "\n",
    "            # Forward pass\n",
    "            outputs = model(inputs)\n",
    "\n",
    "            # Compute loss\n",
    "            loss = criterion(outputs, labels)\n",
    "            loss.backward()\n",
    "            optimizer.step()  # Update the model's weights\n",
    "            \n",
    "            running_loss += loss.item()\n",
    "        \n",
    "        print(f\"Epoch [{epoch+1}/{num_epochs}], Loss: {running_loss/len(train_loader)}\")\n",
    "\n",
    "        # Optional validation after each epoch\n",
    "        validate(model, train_loader, device)\n",
    "\n",
    "    print('Finished Training')\n",
    "\n",
    "def validate(model, val_loader, device):\n",
    "    model.eval()  # Set the model to evaluation mode\n",
    "    total_val_loss = 0.0\n",
    "    criterion = DiceCELoss(alpha=0.5)  # Define the same loss function used in training\n",
    "    total_dice_score = 0.0\n",
    "\n",
    "    with torch.no_grad():\n",
    "        for val_batch in val_loader:  # Iterate through the validation data\n",
    "            val_inputs = val_batch[\"vol\"].to(device)\n",
    "            val_labels = val_batch[\"seg\"].to(device)\n",
    "\n",
    "            # Forward pass\n",
    "            val_outputs = model(val_inputs)\n",
    "\n",
    "            # Compute validation loss\n",
    "            val_loss = criterion(val_outputs, val_labels)\n",
    "            total_val_loss += val_loss.item()\n",
    "\n",
    "            # Calculate Dice score\n",
    "            dice_score = custom_dice_score(torch.sigmoid(val_outputs), val_labels)\n",
    "            total_dice_score += dice_score.item()\n",
    "\n",
    "    # Calculate average validation loss and Dice score\n",
    "    avg_val_loss = total_val_loss / len(val_loader)\n",
    "    avg_dice_score = total_dice_score / len(val_loader)\n",
    "\n",
    "    print(f\"Validation Loss: {avg_val_loss}, Dice Score: {avg_dice_score}\")\n",
    "\n",
    "if __name__ == \"__main__\":\n",
    "    in_channels = 1  # For grayscale images\n",
    "    patch_size = 4   # Define your patch size\n",
    "    embed_dim = 32   # Reduced embedding dimension\n",
    "    num_classes = 1  # Output classes (for single-channel output)\n",
    "    model = ConvNetWithAttention(in_channels, patch_size, embed_dim, num_classes)\n",
    "    pretrained_model_path = '/kaggle/input/model/pytorch/v1/1/model-2.pth'\n",
    "    \n",
    "    # Load pre-trained weights\n",
    "    if os.path.exists(pretrained_model_path):\n",
    "        model.load_state_dict(torch.load(pretrained_model_path))\n",
    "        print(\"Loaded pre-trained model\")\n",
    "    else:\n",
    "        print(\"Pre-trained model not found, initializing a new model\")\n",
    "\n",
    "    device = torch.device(\"cuda\" if torch.cuda.is_available() else \"cpu\")\n",
    "\n",
    "    # Start training\n",
    "    num_epochs = 60\n",
    "    train(model, data_in, num_epochs, device)"
   ]
  },
  {
   "cell_type": "markdown",
   "metadata": {},
   "source": [
    " Visualizes the training loss over epochs by plotting a line graph to evaluate model performance trends."
   ]
  },
  {
   "cell_type": "code",
   "execution_count": 1,
   "metadata": {
    "execution": {
     "iopub.execute_input": "2024-10-02T16:14:02.512907Z",
     "iopub.status.busy": "2024-10-02T16:14:02.512562Z",
     "iopub.status.idle": "2024-10-02T16:14:02.991287Z",
     "shell.execute_reply": "2024-10-02T16:14:02.990349Z",
     "shell.execute_reply.started": "2024-10-02T16:14:02.512871Z"
    },
    "trusted": true
   },
   "outputs": [
    {
     "data": {
      "image/png": "[encoded data removed]",
      "text/plain": [
       "<Figure size 1000x600 with 1 Axes>"
      ]
     },
     "metadata": {},
     "output_type": "display_data"
    }
   ],
   "source": [
    "import matplotlib.pyplot as plt\n",
    "\n",
    "# Loss values from your training logs\n",
    "loss_values = [\n",
    "    0.2697, 0.2609, 0.2471, 0.2377, 0.2256,\n",
    "    0.2202, 0.2122, 0.2088, 0.2027, 0.2047,\n",
    "    0.2037, 0.1959, 0.1959, 0.2160, 0.2166,\n",
    "    0.2233, 0.2050, 0.1825, 0.1755, 0.1732,\n",
    "    0.1716, 0.1745, 0.1762, 0.1870, 0.1835,\n",
    "    0.1823, 0.1828, 0.1773, 0.1749, 0.1734,\n",
    "    0.1745, 0.1728, 0.1837, 0.1726, 0.1773,\n",
    "    0.1780\n",
    "]\n",
    "\n",
    "# Number of epochs\n",
    "epochs = list(range(1, len(loss_values) + 1))\n",
    "\n",
    "# Plotting the loss values\n",
    "plt.figure(figsize=(10, 6))\n",
    "plt.plot(epochs, loss_values, marker='o', linestyle='-', color='b')\n",
    "plt.title('Loss vs. Epochs')\n",
    "plt.xlabel('Epochs')\n",
    "plt.ylabel('Loss')\n",
    "plt.xticks(epochs)\n",
    "plt.grid(True)\n",
    "plt.show()"
   ]
  },
  {
   "cell_type": "markdown",
   "metadata": {},
   "source": [
    "3D segmentation model by evaluating Dice loss, Dice score, and F1-score metrics, determines the optimal threshold for predictions, and visualizes the confusion matrix with class-wise metrics."
   ]
  },
  {
   "cell_type": "code",
   "execution_count": 8,
   "metadata": {
    "execution": {
     "iopub.execute_input": "2024-10-03T04:49:16.580599Z",
     "iopub.status.busy": "2024-10-03T04:49:16.580201Z",
     "iopub.status.idle": "2024-10-03T04:53:19.437214Z",
     "shell.execute_reply": "2024-10-03T04:53:19.436194Z",
     "shell.execute_reply.started": "2024-10-03T04:49:16.580564Z"
    },
    "trusted": true
   },
   "outputs": [
    {
     "name": "stderr",
     "output_type": "stream",
     "text": [
      "/tmp/ipykernel_30/4262294119.py:130: FutureWarning: You are using `torch.load` with `weights_only=False` (the current default value), which uses the default pickle module implicitly. It is possible to construct malicious pickle data which will execute arbitrary code during unpickling (See https://github.com/pytorch/pytorch/blob/main/SECURITY.md#untrusted-models for more details). In a future release, the default value for `weights_only` will be flipped to `True`. This limits the functions that could be executed during unpickling. Arbitrary objects will no longer be allowed to be loaded via this mode unless they are explicitly allowlisted by the user via `torch.serialization.add_safe_globals`. We recommend you start setting `weights_only=True` for any use case where you don't have full control of the loaded file. Please open an issue on GitHub for any issues related to this experimental feature.\n",
      "  model.load_state_dict(torch.load(pretrained_model_path))\n"
     ]
    },
    {
     "name": "stdout",
     "output_type": "stream",
     "text": [
      "Loaded pre-trained model\n",
      "Validation Loss: 0.0925, Dice Score: 0.8149\n",
      "Best Threshold: 0.95, Best F1-Score: 0.5900\n",
      "Confusion Matrix:\n"
     ]
    },
    {
     "data": {
      "image/png": "[encoded data removed]",
      "text/plain": [
       "<Figure size 640x480 with 2 Axes>"
      ]
     },
     "metadata": {},
     "output_type": "display_data"
    },
    {
     "name": "stdout",
     "output_type": "stream",
     "text": [
      "Class: Background, Precision: 0.9969, Recall: 0.9932, F1-Score: 0.9951\n",
      "Class: Object, Precision: 0.7068, Recall: 0.8573, F1-Score: 0.7748\n"
     ]
    }
   ],
   "source": [
    "import os\n",
    "import torch\n",
    "import torch.nn.functional as F\n",
    "import matplotlib.pyplot as plt\n",
    "import numpy as np\n",
    "from sklearn.metrics import (\n",
    "    confusion_matrix,\n",
    "    ConfusionMatrixDisplay,\n",
    "    f1_score,\n",
    "    precision_recall_fscore_support\n",
    ")\n",
    "\n",
    "class DiceCELoss(torch.nn.Module):\n",
    "    def __init__(self, alpha=0.5):\n",
    "        super(DiceCELoss, self).__init__()\n",
    "        self.alpha = alpha\n",
    "\n",
    "    def forward(self, inputs, targets):\n",
    "        \"\"\"Compute Dice score and Cross Entropy Loss.\"\"\"\n",
    "        dice = custom_dice_score(inputs, targets)\n",
    "        ce_loss = F.cross_entropy(inputs, targets)\n",
    "        return self.alpha * (1 - dice) + (1 - self.alpha) * ce_loss\n",
    "\n",
    "def custom_dice_score(pred, target, smooth=1e-6):\n",
    "    \"\"\"Calculate the Dice score.\"\"\"\n",
    "    pred = (pred > 0.5).float()  # Threshold to get binary predictions (as float)\n",
    "    target = target.float()  # Ensure target is also float\n",
    "    intersection = (pred * target).sum()  # Element-wise multiplication and sum\n",
    "    return (2. * intersection + smooth) / (pred.sum() + target.sum() + smooth)\n",
    "\n",
    "def plot_confusion_matrix(preds, targets, classes):\n",
    "    \"\"\"Plot confusion matrix.\"\"\"\n",
    "    cm = confusion_matrix(targets.flatten(), preds.flatten(), labels=[0, 1])\n",
    "    disp = ConfusionMatrixDisplay(confusion_matrix=cm, display_labels=classes)\n",
    "    disp.plot(cmap=plt.cm.Blues)\n",
    "    plt.title(\"Confusion Matrix\")\n",
    "    plt.show()\n",
    "\n",
    "def calculate_class_metrics(preds, targets):\n",
    "    \"\"\"Calculate precision, recall, and F1-score for each class.\"\"\"\n",
    "    precision, recall, f1, _ = precision_recall_fscore_support(\n",
    "        targets.flatten(), preds.flatten(), average=None, zero_division=0\n",
    "    )\n",
    "    return precision, recall, f1\n",
    "\n",
    "def validate(model, val_loader, device, thresholds=np.arange(0.0, 1.0, 0.05)):\n",
    "    \"\"\"Validate the model and print key metrics.\"\"\"\n",
    "    model.eval()  # Set the model to evaluation mode\n",
    "    total_val_loss = 0.0\n",
    "    criterion = DiceCELoss(alpha=0.5)  # Define the same loss function used in training\n",
    "    total_dice_score = 0.0\n",
    "    num_batches = 0\n",
    "    all_preds = []\n",
    "    all_targets = []\n",
    "\n",
    "    with torch.no_grad():\n",
    "        for val_batch in val_loader:  # Iterate through the validation data\n",
    "            val_inputs = val_batch[\"vol\"].to(device)\n",
    "            val_labels = val_batch[\"seg\"].to(device)\n",
    "\n",
    "            # Forward pass\n",
    "            val_outputs = model(val_inputs)\n",
    "\n",
    "            # Compute validation loss\n",
    "            val_loss = criterion(val_outputs, val_labels)\n",
    "            total_val_loss += val_loss.item()\n",
    "\n",
    "            # Calculate Dice score using the custom function\n",
    "            dice_score = custom_dice_score(val_outputs.reshape(-1), val_labels.reshape(-1))\n",
    "            total_dice_score += dice_score.item()\n",
    "            num_batches += 1\n",
    "\n",
    "            # Store raw outputs for thresholding\n",
    "            preds = val_outputs.cpu().numpy()  # Store raw model outputs\n",
    "            targets = val_labels.cpu().numpy()  # Get targets in numpy format\n",
    "            all_preds.append(preds)\n",
    "            all_targets.append(targets)\n",
    "\n",
    "    # Calculate average validation loss and Dice score\n",
    "    avg_val_loss = total_val_loss / num_batches\n",
    "    avg_dice_score = total_dice_score / num_batches\n",
    "    print(f\"Validation Loss: {avg_val_loss:.4f}, Dice Score: {avg_dice_score:.4f}\")\n",
    "\n",
    "    # Convert lists to numpy arrays\n",
    "    all_preds = np.concatenate(all_preds)  # Raw predictions\n",
    "    all_targets = np.concatenate(all_targets).astype(int)  # Ensure targets are binary\n",
    "\n",
    "    # Initialize metrics\n",
    "    best_f1 = 0\n",
    "    best_threshold = 0\n",
    "\n",
    "    # Experiment with different thresholds\n",
    "    for threshold in thresholds:\n",
    "        # Binarize predictions based on current threshold\n",
    "        binary_preds = (all_preds > threshold).astype(int)\n",
    "        \n",
    "        # Calculate precision, recall, and F1-score\n",
    "        precision, recall, f1 = calculate_class_metrics(binary_preds, all_targets)\n",
    "\n",
    "        # Update best threshold based on F1-score\n",
    "        if f1.mean() > best_f1:  # Use mean F1 for multiclass\n",
    "            best_f1 = f1.mean()\n",
    "            best_threshold = threshold\n",
    "\n",
    "    print(f\"Best Threshold: {best_threshold:.2f}, Best F1-Score: {best_f1:.4f}\")\n",
    "\n",
    "    # Final prediction using the best threshold\n",
    "    final_preds = (all_preds > best_threshold).astype(int)\n",
    "\n",
    "    # Print and plot the confusion matrix with final predictions\n",
    "    print(\"Confusion Matrix:\")\n",
    "    plot_confusion_matrix(final_preds, all_targets, classes=[\"Background\", \"Object\"])  # Explicitly pass class labels\n",
    "\n",
    "    # Calculate and print class-wise precision, recall, and F1 scores\n",
    "    precision, recall, f1 = calculate_class_metrics(final_preds, all_targets)\n",
    "    for i, class_name in enumerate([\"Background\", \"Object\"]):\n",
    "        print(f\"Class: {class_name}, Precision: {precision[i]:.4f}, Recall: {recall[i]:.4f}, F1-Score: {f1[i]:.4f}\")\n",
    "\n",
    "# Call the validation function\n",
    "if __name__ == \"__main__\":\n",
    "    in_channels = 1  # For grayscale images\n",
    "    patch_size = 4   # Define your patch size\n",
    "    embed_dim = 32   # Reduced embedding dimension\n",
    "    num_classes = 1  # Output classes (for single-channel output)\n",
    "    model = ConvNetWithAttention(in_channels, patch_size, embed_dim, num_classes)\n",
    "    pretrained_model_path = '/kaggle/input/model/pytorch/v1/2/model (1).pth'\n",
    "    \n",
    "    # Load pre-trained weights\n",
    "    if os.path.exists(pretrained_model_path):\n",
    "        model.load_state_dict(torch.load(pretrained_model_path))\n",
    "        print(\"Loaded pre-trained model\")\n",
    "    else:\n",
    "        print(\"Pre-trained model not found, initializing a new model\")\n",
    "\n",
    "    device = torch.device(\"cuda\" if torch.cuda.is_available() else \"cpu\")\n",
    "    model.to(device)  # Move model to GPU\n",
    "\n",
    "    # Assume data_in is your validation DataLoader\n",
    "    validate(model, data_in, device)\n"
   ]
  },
  {
   "cell_type": "code",
   "execution_count": 10,
   "metadata": {
    "execution": {
     "iopub.execute_input": "2024-09-29T08:48:32.925189Z",
     "iopub.status.busy": "2024-09-29T08:48:32.924774Z",
     "iopub.status.idle": "2024-09-29T08:48:32.946565Z",
     "shell.execute_reply": "2024-09-29T08:48:32.945633Z",
     "shell.execute_reply.started": "2024-09-29T08:48:32.925151Z"
    },
    "trusted": true
   },
   "outputs": [],
   "source": [
    "torch.save(model.state_dict(), \"model.pth\")  # Save the state_dict of the model"
   ]
  },
  {
   "cell_type": "markdown",
   "metadata": {},
   "source": [
    "Pre-trained segmentation model, processes a selected MRI scan, generates segmentation masks, and visualizes the input image, predicted output, and ground truth for a specific slice."
   ]
  },
  {
   "cell_type": "code",
   "execution_count": 12,
   "metadata": {
    "execution": {
     "iopub.execute_input": "2024-10-03T10:35:12.149500Z",
     "iopub.status.busy": "2024-10-03T10:35:12.148649Z",
     "iopub.status.idle": "2024-10-03T10:35:14.994000Z",
     "shell.execute_reply": "2024-10-03T10:35:14.993062Z",
     "shell.execute_reply.started": "2024-10-03T10:35:12.149459Z"
    },
    "trusted": true
   },
   "outputs": [
    {
     "name": "stderr",
     "output_type": "stream",
     "text": [
      "/tmp/ipykernel_30/1277668822.py:53: FutureWarning: You are using `torch.load` with `weights_only=False` (the current default value), which uses the default pickle module implicitly. It is possible to construct malicious pickle data which will execute arbitrary code during unpickling (See https://github.com/pytorch/pytorch/blob/main/SECURITY.md#untrusted-models for more details). In a future release, the default value for `weights_only` will be flipped to `True`. This limits the functions that could be executed during unpickling. Arbitrary objects will no longer be allowed to be loaded via this mode unless they are explicitly allowlisted by the user via `torch.serialization.add_safe_globals`. We recommend you start setting `weights_only=True` for any use case where you don't have full control of the loaded file. Please open an issue on GitHub for any issues related to this experimental feature.\n",
      "  model.load_state_dict(torch.load(pretrained_model_path, map_location=torch.device('cpu')))\n",
      "/tmp/ipykernel_30/1277668822.py:75: FutureWarning: You are using `torch.load` with `weights_only=False` (the current default value), which uses the default pickle module implicitly. It is possible to construct malicious pickle data which will execute arbitrary code during unpickling (See https://github.com/pytorch/pytorch/blob/main/SECURITY.md#untrusted-models for more details). In a future release, the default value for `weights_only` will be flipped to `True`. This limits the functions that could be executed during unpickling. Arbitrary objects will no longer be allowed to be loaded via this mode unless they are explicitly allowlisted by the user via `torch.serialization.add_safe_globals`. We recommend you start setting `weights_only=True` for any use case where you don't have full control of the loaded file. Please open an issue on GitHub for any issues related to this experimental feature.\n",
      "  model.load_state_dict(torch.load(pretrained_model_path))\n"
     ]
    },
    {
     "name": "stdout",
     "output_type": "stream",
     "text": [
      "Loaded pre-trained model onto CPU\n",
      "Loaded pre-trained model\n",
      "Input Image Min: 0.0, Max: 1.0\n",
      "Output Image Min: 0.0, Max: 1.0\n",
      "Output Probs Min: 2.2964722745655308e-07, Max: 1.0\n"
     ]
    },
    {
     "data": {
      "image/png": "[encoded data removed]",
      "text/plain": [
       "<Figure size 1800x600 with 3 Axes>"
      ]
     },
     "metadata": {},
     "output_type": "display_data"
    }
   ],
   "source": [
    "import matplotlib.pyplot as plt\n",
    "import numpy as np\n",
    "\n",
    "def normalize_image(image):\n",
    "    \"\"\"Normalize an image tensor to the range [0, 1].\"\"\"\n",
    "    image_min = image.min()\n",
    "    image_max = image.max()\n",
    "    if image_max > image_min:\n",
    "        return (image - image_min) / (image_max - image_min)\n",
    "    else:\n",
    "        return np.zeros_like(image)  # Return zero array if range is zero\n",
    "\n",
    "def visualize_output(input_tensor, output_tensor, ground_truth_tensor=None, slice_idx=None):\n",
    "    input_image = input_tensor.squeeze().cpu().numpy()\n",
    "    output_image = output_tensor.squeeze().detach().cpu().numpy()\n",
    "    ground_truth_image = ground_truth_tensor.squeeze().cpu().numpy() if ground_truth_tensor is not None else None\n",
    "\n",
    "    # Determine the slice index to display\n",
    "    if slice_idx is None:\n",
    "        slice_idx = input_image.shape[2] // 2  # Default to middle slice if not provided\n",
    "\n",
    "    # Normalize images for better visualization\n",
    "    input_image = normalize_image(input_image)\n",
    "    output_image = normalize_image(output_image)\n",
    "    if ground_truth_image is not None:\n",
    "        ground_truth_image = normalize_image(ground_truth_image)\n",
    "\n",
    "    fig, axes = plt.subplots(1, 3 if ground_truth_image is not None else 2, figsize=(18, 6))\n",
    "    axes[0].imshow(input_image[..., slice_idx], cmap='gray')  # Specified slice\n",
    "    axes[0].set_title('Input Image')\n",
    "    \n",
    "    axes[1].imshow(output_image[..., slice_idx], cmap='gray')  # Specified slice\n",
    "    axes[1].set_title('Output Segmentation')\n",
    "\n",
    "    if ground_truth_image is not None:\n",
    "        axes[2].imshow(ground_truth_image[..., slice_idx], cmap='gray')  # Specified slice\n",
    "        axes[2].set_title('Ground Truth')\n",
    "    print(f'Input Image Min: {input_image.min()}, Max: {input_image.max()}')\n",
    "    print(f'Output Image Min: {output_image.min()}, Max: {output_image.max()}')\n",
    "    print(f'Output Probs Min: {output_probs.min().item()}, Max: {output_probs.max().item()}')\n",
    "\n",
    "\n",
    "    plt.show()\n",
    "in_channels = 1  # For grayscale images\n",
    "patch_size = 4   # Define your patch size\n",
    "embed_dim = 32   # Reduced embedding dimension\n",
    "num_classes = 1  # Output classes (for single-channel output)\n",
    "model = ConvNetWithAttention(in_channels, patch_size, embed_dim, num_classes)\n",
    "pretrained_model_path = '/kaggle/input/model/pytorch/v1/1/model-2.pth'\n",
    "\n",
    "# Load pre-trained weights with map_location set to 'cpu'\n",
    "if os.path.exists(pretrained_model_path):\n",
    "    model.load_state_dict(torch.load(pretrained_model_path, map_location=torch.device('cpu')))\n",
    "    print(\"Loaded pre-trained model onto CPU\")\n",
    "else:\n",
    "    print(\"Pre-trained model not found, initializing a new model\")\n",
    "\n",
    "# Define the index of the MRI scan you want to visualize\n",
    "mri_scan_index = 10# Change this to the desired MRI scan index\n",
    "slice_index = 1 # Change this to the desired slice index\n",
    "device='cpu'\n",
    "# Get a batch of images and labels for the specific index\n",
    "batch = data_in.dataset[mri_scan_index]  # Fetch the data sample from the dataset\n",
    "inputs = batch['vol'].unsqueeze(0).to(device)  # Add batch dimension and move to device\n",
    "labels = batch['seg'].unsqueeze(0).to(device)  # Add batch dimension and move to device\n",
    "in_channels = 1  # For grayscale images\n",
    "patch_size = 4   # Define your patch size\n",
    "embed_dim = 32   # Reduced embedding dimension\n",
    "num_classes = 1  # Output classes (for single-channel output)\n",
    "model = ConvNetWithAttention(in_channels, patch_size, embed_dim, num_classes)\n",
    "pretrained_model_path = '/kaggle/input/model/pytorch/v1/2/model (1).pth'\n",
    "\n",
    "# Load pre-trained weights\n",
    "if os.path.exists(pretrained_model_path):\n",
    "    model.load_state_dict(torch.load(pretrained_model_path))\n",
    "    print(\"Loaded pre-trained model\")\n",
    "else:\n",
    "    print(\"Pre-trained model not found, initializing a new model\")\n",
    "\n",
    "device = \"cpu\"\n",
    "model.to(device)  # Move model to GPU\n",
    "\n",
    "\n",
    "# Run the model on the selected MRI scan\n",
    "outputs = model(inputs)\n",
    "output_probs = torch.sigmoid(outputs)\n",
    "output_masks = (output_probs > 0.5).float()\n",
    "\n",
    "# Visualize the selected MRI scan along with ground truth\n",
    "visualize_output(inputs[0], output_masks[0], ground_truth_tensor=labels[0], slice_idx=slice_index)\n"
   ]
  },
  {
   "cell_type": "code",
   "execution_count": null,
   "metadata": {},
   "outputs": [],
   "source": []
  }
 ],
 "metadata": {
  "kaggle": {
   "accelerator": "none",
   "dataSources": [
    {
     "datasetId": 5780729,
     "sourceId": 9499158,
     "sourceType": "datasetVersion"
    },
    {
     "datasetId": 5780757,
     "sourceId": 9499190,
     "sourceType": "datasetVersion"
    },
    {
     "datasetId": 5780908,
     "sourceId": 9499405,
     "sourceType": "datasetVersion"
    },
    {
     "datasetId": 5780914,
     "sourceId": 9499412,
     "sourceType": "datasetVersion"
    },
    {
     "datasetId": 5786125,
     "sourceId": 9506529,
     "sourceType": "datasetVersion"
    },
    {
     "datasetId": 5786222,
     "sourceId": 9506663,
     "sourceType": "datasetVersion"
    },
    {
     "modelId": 127325,
     "modelInstanceId": 103091,
     "sourceId": 122510,
     "sourceType": "modelInstanceVersion"
    },
    {
     "isSourceIdPinned": true,
     "modelId": 127325,
     "modelInstanceId": 103091,
     "sourceId": 123890,
     "sourceType": "modelInstanceVersion"
    }
   ],
   "dockerImageVersionId": 30776,
   "isGpuEnabled": false,
   "isInternetEnabled": true,
   "language": "python",
   "sourceType": "notebook"
  },
  "kernelspec": {
   "display_name": "Python 3",
   "language": "python",
   "name": "python3"
  },
  "language_info": {
   "codemirror_mode": {
    "name": "ipython",
    "version": 3
   },
   "file_extension": ".py",
   "mimetype": "text/x-python",
   "name": "python",
   "nbconvert_exporter": "python",
   "pygments_lexer": "ipython3",
   "version": "3.10.14"
  }
 },
 "nbformat": 4,
 "nbformat_minor": 4
}
